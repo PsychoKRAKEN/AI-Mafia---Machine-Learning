{
 "cells": [
  {
   "cell_type": "code",
   "execution_count": 11,
   "metadata": {},
   "outputs": [],
   "source": [
    "#Import Libraries\n",
    "import numpy as np\n",
    "import pandas as pd\n",
    "import matplotlib.pyplot as plt"
   ]
  },
  {
   "cell_type": "code",
   "execution_count": 12,
   "metadata": {},
   "outputs": [],
   "source": [
    "#Data Preparation\n",
    "fx=pd.read_csv('Data/linearX.csv')\n",
    "fy=pd.read_csv('Data/linearY.csv')"
   ]
  },
  {
   "cell_type": "code",
   "execution_count": 13,
   "metadata": {},
   "outputs": [],
   "source": [
    "x=fx.values\n",
    "y=fy.values"
   ]
  },
  {
   "cell_type": "code",
   "execution_count": 15,
   "metadata": {},
   "outputs": [
    {
     "name": "stdout",
     "output_type": "stream",
     "text": [
      "[[ 8. ]\n",
      " [ 9.1]\n",
      " [ 8.4]\n",
      " [ 6.9]\n",
      " [ 7.7]\n",
      " [15.6]\n",
      " [ 7.3]\n",
      " [ 7. ]\n",
      " [ 7.2]\n",
      " [10.1]\n",
      " [11.5]\n",
      " [ 7.1]\n",
      " [10. ]\n",
      " [ 8.9]\n",
      " [ 7.9]\n",
      " [ 5.6]\n",
      " [ 6.3]\n",
      " [ 6.7]\n",
      " [10.4]\n",
      " [ 8.5]\n",
      " [ 7.4]\n",
      " [ 6.3]\n",
      " [ 5.4]\n",
      " [ 8.9]\n",
      " [ 9.4]\n",
      " [ 7.5]\n",
      " [11.9]\n",
      " [ 7.8]\n",
      " [ 7.4]\n",
      " [10.8]\n",
      " [10.2]\n",
      " [ 6.2]\n",
      " [ 7.7]\n",
      " [13.7]\n",
      " [ 8. ]\n",
      " [ 6.7]\n",
      " [ 6.7]\n",
      " [ 7. ]\n",
      " [ 8.3]\n",
      " [ 7.4]\n",
      " [ 9.9]\n",
      " [ 6.1]\n",
      " [ 7. ]\n",
      " [ 5.4]\n",
      " [10.7]\n",
      " [ 7.6]\n",
      " [ 8.9]\n",
      " [ 9.2]\n",
      " [ 6.6]\n",
      " [ 7.2]\n",
      " [ 8. ]\n",
      " [ 7.8]\n",
      " [ 7.9]\n",
      " [ 7. ]\n",
      " [ 7. ]\n",
      " [ 7.6]\n",
      " [ 9.1]\n",
      " [ 9. ]\n",
      " [ 7.9]\n",
      " [ 6.6]\n",
      " [11.9]\n",
      " [ 6.5]\n",
      " [ 7.1]\n",
      " [ 8.8]\n",
      " [ 7.5]\n",
      " [ 7.7]\n",
      " [ 6. ]\n",
      " [10.6]\n",
      " [ 6.6]\n",
      " [ 8.2]\n",
      " [ 7.9]\n",
      " [ 7.1]\n",
      " [ 5.6]\n",
      " [ 6.4]\n",
      " [ 7.5]\n",
      " [ 9.8]\n",
      " [ 7. ]\n",
      " [10.5]\n",
      " [ 7.1]\n",
      " [ 6.2]\n",
      " [ 6.5]\n",
      " [ 7.7]\n",
      " [ 7.2]\n",
      " [ 9.3]\n",
      " [ 8.5]\n",
      " [ 7.7]\n",
      " [ 6.8]\n",
      " [ 7.8]\n",
      " [ 8.7]\n",
      " [ 9.6]\n",
      " [ 7.2]\n",
      " [ 9.3]\n",
      " [ 8.1]\n",
      " [ 6.6]\n",
      " [ 7.8]\n",
      " [10.2]\n",
      " [ 6.1]\n",
      " [ 7.3]\n",
      " [ 7.3]]\n",
      "(99, 1)\n"
     ]
    }
   ],
   "source": [
    "print(x)\n",
    "print(x.shape)"
   ]
  },
  {
   "cell_type": "code",
   "execution_count": 21,
   "metadata": {},
   "outputs": [],
   "source": [
    "x=x.reshape((-1,1))\n",
    "y=y.reshape((-1,1))"
   ]
  },
  {
   "cell_type": "code",
   "execution_count": 22,
   "metadata": {
    "scrolled": true
   },
   "outputs": [
    {
     "name": "stdout",
     "output_type": "stream",
     "text": [
      "[[ 8. ]\n",
      " [ 9.1]\n",
      " [ 8.4]\n",
      " [ 6.9]\n",
      " [ 7.7]\n",
      " [15.6]\n",
      " [ 7.3]\n",
      " [ 7. ]\n",
      " [ 7.2]\n",
      " [10.1]\n",
      " [11.5]\n",
      " [ 7.1]\n",
      " [10. ]\n",
      " [ 8.9]\n",
      " [ 7.9]\n",
      " [ 5.6]\n",
      " [ 6.3]\n",
      " [ 6.7]\n",
      " [10.4]\n",
      " [ 8.5]\n",
      " [ 7.4]\n",
      " [ 6.3]\n",
      " [ 5.4]\n",
      " [ 8.9]\n",
      " [ 9.4]\n",
      " [ 7.5]\n",
      " [11.9]\n",
      " [ 7.8]\n",
      " [ 7.4]\n",
      " [10.8]\n",
      " [10.2]\n",
      " [ 6.2]\n",
      " [ 7.7]\n",
      " [13.7]\n",
      " [ 8. ]\n",
      " [ 6.7]\n",
      " [ 6.7]\n",
      " [ 7. ]\n",
      " [ 8.3]\n",
      " [ 7.4]\n",
      " [ 9.9]\n",
      " [ 6.1]\n",
      " [ 7. ]\n",
      " [ 5.4]\n",
      " [10.7]\n",
      " [ 7.6]\n",
      " [ 8.9]\n",
      " [ 9.2]\n",
      " [ 6.6]\n",
      " [ 7.2]\n",
      " [ 8. ]\n",
      " [ 7.8]\n",
      " [ 7.9]\n",
      " [ 7. ]\n",
      " [ 7. ]\n",
      " [ 7.6]\n",
      " [ 9.1]\n",
      " [ 9. ]\n",
      " [ 7.9]\n",
      " [ 6.6]\n",
      " [11.9]\n",
      " [ 6.5]\n",
      " [ 7.1]\n",
      " [ 8.8]\n",
      " [ 7.5]\n",
      " [ 7.7]\n",
      " [ 6. ]\n",
      " [10.6]\n",
      " [ 6.6]\n",
      " [ 8.2]\n",
      " [ 7.9]\n",
      " [ 7.1]\n",
      " [ 5.6]\n",
      " [ 6.4]\n",
      " [ 7.5]\n",
      " [ 9.8]\n",
      " [ 7. ]\n",
      " [10.5]\n",
      " [ 7.1]\n",
      " [ 6.2]\n",
      " [ 6.5]\n",
      " [ 7.7]\n",
      " [ 7.2]\n",
      " [ 9.3]\n",
      " [ 8.5]\n",
      " [ 7.7]\n",
      " [ 6.8]\n",
      " [ 7.8]\n",
      " [ 8.7]\n",
      " [ 9.6]\n",
      " [ 7.2]\n",
      " [ 9.3]\n",
      " [ 8.1]\n",
      " [ 6.6]\n",
      " [ 7.8]\n",
      " [10.2]\n",
      " [ 6.1]\n",
      " [ 7.3]\n",
      " [ 7.3]]\n"
     ]
    }
   ],
   "source": [
    "print(x)"
   ]
  },
  {
   "cell_type": "code",
   "execution_count": 23,
   "metadata": {},
   "outputs": [
    {
     "data": {
      "image/png": "[encoded data removed]",
      "text/plain": [
       "<Figure size 432x288 with 1 Axes>"
      ]
     },
     "metadata": {
      "needs_background": "light"
     },
     "output_type": "display_data"
    }
   ],
   "source": [
    "#Plotting\n",
    "plt.scatter(x,y)\n",
    "plt.show()"
   ]
  },
  {
   "cell_type": "code",
   "execution_count": 19,
   "metadata": {},
   "outputs": [],
   "source": [
    "from sklearn.linear_model import LinearRegression"
   ]
  },
  {
   "cell_type": "code",
   "execution_count": 20,
   "metadata": {},
   "outputs": [],
   "source": [
    "model=LinearRegression()"
   ]
  },
  {
   "cell_type": "code",
   "execution_count": 24,
   "metadata": {},
   "outputs": [
    {
     "data": {
      "text/plain": [
       "LinearRegression(copy_X=True, fit_intercept=True, n_jobs=None, normalize=False)"
      ]
     },
     "execution_count": 24,
     "metadata": {},
     "output_type": "execute_result"
    }
   ],
   "source": [
    "#Training\n",
    "model.fit(x,y)"
   ]
  },
  {
   "cell_type": "code",
   "execution_count": 25,
   "metadata": {},
   "outputs": [],
   "source": [
    "#Prediction\n",
    "\n",
    "output=model.predict(x)"
   ]
  },
  {
   "cell_type": "code",
   "execution_count": 26,
   "metadata": {},
   "outputs": [
    {
     "name": "stdout",
     "output_type": "stream",
     "text": [
      "[0.9903092]\n",
      "[[0.00078556]]\n"
     ]
    }
   ],
   "source": [
    "bias=model.intercept_\n",
    "coeff=model.coef_\n",
    "\n",
    "print(bias)\n",
    "print(coeff)"
   ]
  },
  {
   "cell_type": "code",
   "execution_count": 27,
   "metadata": {},
   "outputs": [
    {
     "data": {
      "text/plain": [
       "0.43818504557920035"
      ]
     },
     "execution_count": 27,
     "metadata": {},
     "output_type": "execute_result"
    }
   ],
   "source": [
    "model.score(x,y)"
   ]
  },
  {
   "cell_type": "code",
   "execution_count": 29,
   "metadata": {},
   "outputs": [
    {
     "data": {
      "image/png": "[encoded data removed]",
      "text/plain": [
       "<Figure size 432x288 with 1 Axes>"
      ]
     },
     "metadata": {
      "needs_background": "light"
     },
     "output_type": "display_data"
    }
   ],
   "source": [
    "#Visualise \n",
    "\n",
    "plt.scatter(x,y,label='Data')\n",
    "plt.plot(x,output,color='green',label='Prediction')\n",
    "plt.legend()\n",
    "plt.show()"
   ]
  },
  {
   "cell_type": "code",
   "execution_count": null,
   "metadata": {},
   "outputs": [],
   "source": []
  }
 ],
 "metadata": {
  "kernelspec": {
   "display_name": "Python 3",
   "language": "python",
   "name": "python3"
  },
  "language_info": {
   "codemirror_mode": {
    "name": "ipython",
    "version": 3
   },
   "file_extension": ".py",
   "mimetype": "text/x-python",
   "name": "python",
   "nbconvert_exporter": "python",
   "pygments_lexer": "ipython3",
   "version": "3.7.4"
  }
 },
 "nbformat": 4,
 "nbformat_minor": 2
}
